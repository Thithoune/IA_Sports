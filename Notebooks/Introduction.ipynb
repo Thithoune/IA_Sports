{
 "cells": [
  {
   "attachments": {},
   "cell_type": "markdown",
   "metadata": {},
   "source": [
    "# Introduction"
   ]
  },
  {
   "attachments": {},
   "cell_type": "markdown",
   "metadata": {},
   "source": [
    "Une faible variabilité cardiaque peut-être associé à des risques graves de mortalité quelque soit l'age de la personne. L'indice de faible variabilité cardiaque peut donc être considéré comme un indicateur d'un mauvais état de santé.\n",
    "\n",
    "Deux estimateurs peuvent être calculé : \n",
    "\n",
    "- [Le ration HF/LF :](HRV_fourier.ipynb)\n",
    "\n",
    "        - Parasympathique [HF] : \n",
    "        La variabilité du rythme cardiaque est sous contrôle de la fréquence respiratoire (environ 12/min, soit cycle d’environ 5s). L’influence se situe autour de 0,2Hz. Le contrôle est lié à la fréquence respiratoire liée à l’activité parasympathique.\n",
    "\n",
    "        - Sympathique [LF] (Mayer waves) : \n",
    "        Calé autour d’une fréquence de 0.1 Hz. Les vaisseaux sanguins périphériques s’ouvrent sous contrôle du sympathique à une période de 10s.\n",
    "\n",
    "- [RMSSD :](RMSSD.ipynb)\n",
    "\n",
    "La moyenne des écarts successifs entre 2 contractions cardiaques (RR)."
   ]
  }
 ],
 "metadata": {
  "kernelspec": {
   "display_name": "Python 3",
   "language": "python",
   "name": "python3"
  },
  "language_info": {
   "name": "python",
   "version": "3.11.0 (v3.11.0:deaf509e8f, Oct 24 2022, 14:43:23) [Clang 13.0.0 (clang-1300.0.29.30)]"
  },
  "orig_nbformat": 4,
  "vscode": {
   "interpreter": {
    "hash": "aee8b7b246df8f9039afb4144a1f6fd8d2ca17a180786b69acc140d282b71a49"
   }
  }
 },
 "nbformat": 4,
 "nbformat_minor": 2
}
