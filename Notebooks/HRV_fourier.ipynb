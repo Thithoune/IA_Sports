{
 "cells": [
  {
   "attachments": {},
   "cell_type": "markdown",
   "metadata": {},
   "source": [
    "# Théorie "
   ]
  },
  {
   "attachments": {},
   "cell_type": "markdown",
   "metadata": {},
   "source": [
    "### Calcul de la balance sympatho-vagale (estimer le moment ou le sportif est reposé).\n",
    "\n",
    "Le rapport entre les puissances LF (sympathique) et HF (parasympathique) doit être plus petit que 1. Normalement le parasympathique doit largement dominer (au repos) le sympathique. Il est important de bien définir la séparation entre la zone LF et HF. \n",
    "\n",
    "![Image](../Images/PSD.png)"
   ]
  },
  {
   "cell_type": "code",
   "execution_count": 1,
   "metadata": {},
   "outputs": [
    {
     "name": "stdout",
     "output_type": "stream",
     "text": [
      "Setup Complete\n"
     ]
    }
   ],
   "source": [
    "import matplotlib.pyplot as plt\n",
    "import numpy as np\n",
    "import xlrd\n",
    "from math import sqrt\n",
    "print(\"Setup Complete\")"
   ]
  },
  {
   "cell_type": "code",
   "execution_count": 4,
   "metadata": {},
   "outputs": [
    {
     "ename": "XLRDError",
     "evalue": "Unsupported format, or corrupt file: Expected BOF record; found b'Data\\n0.0'",
     "output_type": "error",
     "traceback": [
      "\u001b[0;31m---------------------------------------------------------------------------\u001b[0m",
      "\u001b[0;31mXLRDError\u001b[0m                                 Traceback (most recent call last)",
      "\u001b[0;32m/var/folders/wx/3wl0jbhn0rv4ylppq901hvbm0000gn/T/ipykernel_13317/1581912253.py\u001b[0m in \u001b[0;36m<module>\u001b[0;34m\u001b[0m\n\u001b[1;32m      1\u001b[0m \u001b[0;31m#Je lie mon doc excel\u001b[0m\u001b[0;34m\u001b[0m\u001b[0;34m\u001b[0m\u001b[0m\n\u001b[0;32m----> 2\u001b[0;31m \u001b[0mdocument\u001b[0m \u001b[0;34m=\u001b[0m \u001b[0mxlrd\u001b[0m\u001b[0;34m.\u001b[0m\u001b[0mopen_workbook\u001b[0m\u001b[0;34m(\u001b[0m\u001b[0;34m\"../Données/ECGshort.csv\"\u001b[0m\u001b[0;34m)\u001b[0m\u001b[0;34m\u001b[0m\u001b[0;34m\u001b[0m\u001b[0m\n\u001b[0m\u001b[1;32m      3\u001b[0m \u001b[0;31m#J'importe ma feuille de calcul\u001b[0m\u001b[0;34m\u001b[0m\u001b[0;34m\u001b[0m\u001b[0m\n\u001b[1;32m      4\u001b[0m \u001b[0mfeuille_1\u001b[0m \u001b[0;34m=\u001b[0m \u001b[0mdocument\u001b[0m\u001b[0;34m.\u001b[0m\u001b[0msheet_by_index\u001b[0m\u001b[0;34m(\u001b[0m\u001b[0;36m0\u001b[0m\u001b[0;34m)\u001b[0m\u001b[0;34m\u001b[0m\u001b[0;34m\u001b[0m\u001b[0m\n\u001b[1;32m      5\u001b[0m \u001b[0;31m#Puis je met les données voulues dans une liste\u001b[0m\u001b[0;34m\u001b[0m\u001b[0;34m\u001b[0m\u001b[0m\n",
      "\u001b[0;32m~/opt/anaconda3/lib/python3.9/site-packages/xlrd/__init__.py\u001b[0m in \u001b[0;36mopen_workbook\u001b[0;34m(filename, logfile, verbosity, use_mmap, file_contents, encoding_override, formatting_info, on_demand, ragged_rows, ignore_workbook_corruption)\u001b[0m\n\u001b[1;32m    170\u001b[0m         \u001b[0;32mraise\u001b[0m \u001b[0mXLRDError\u001b[0m\u001b[0;34m(\u001b[0m\u001b[0mFILE_FORMAT_DESCRIPTIONS\u001b[0m\u001b[0;34m[\u001b[0m\u001b[0mfile_format\u001b[0m\u001b[0;34m]\u001b[0m\u001b[0;34m+\u001b[0m\u001b[0;34m'; not supported'\u001b[0m\u001b[0;34m)\u001b[0m\u001b[0;34m\u001b[0m\u001b[0;34m\u001b[0m\u001b[0m\n\u001b[1;32m    171\u001b[0m \u001b[0;34m\u001b[0m\u001b[0m\n\u001b[0;32m--> 172\u001b[0;31m     bk = open_workbook_xls(\n\u001b[0m\u001b[1;32m    173\u001b[0m         \u001b[0mfilename\u001b[0m\u001b[0;34m=\u001b[0m\u001b[0mfilename\u001b[0m\u001b[0;34m,\u001b[0m\u001b[0;34m\u001b[0m\u001b[0;34m\u001b[0m\u001b[0m\n\u001b[1;32m    174\u001b[0m         \u001b[0mlogfile\u001b[0m\u001b[0;34m=\u001b[0m\u001b[0mlogfile\u001b[0m\u001b[0;34m,\u001b[0m\u001b[0;34m\u001b[0m\u001b[0;34m\u001b[0m\u001b[0m\n",
      "\u001b[0;32m~/opt/anaconda3/lib/python3.9/site-packages/xlrd/book.py\u001b[0m in \u001b[0;36mopen_workbook_xls\u001b[0;34m(filename, logfile, verbosity, use_mmap, file_contents, encoding_override, formatting_info, on_demand, ragged_rows, ignore_workbook_corruption)\u001b[0m\n\u001b[1;32m     77\u001b[0m         \u001b[0mt1\u001b[0m \u001b[0;34m=\u001b[0m \u001b[0mperf_counter\u001b[0m\u001b[0;34m(\u001b[0m\u001b[0;34m)\u001b[0m\u001b[0;34m\u001b[0m\u001b[0;34m\u001b[0m\u001b[0m\n\u001b[1;32m     78\u001b[0m         \u001b[0mbk\u001b[0m\u001b[0;34m.\u001b[0m\u001b[0mload_time_stage_1\u001b[0m \u001b[0;34m=\u001b[0m \u001b[0mt1\u001b[0m \u001b[0;34m-\u001b[0m \u001b[0mt0\u001b[0m\u001b[0;34m\u001b[0m\u001b[0;34m\u001b[0m\u001b[0m\n\u001b[0;32m---> 79\u001b[0;31m         \u001b[0mbiff_version\u001b[0m \u001b[0;34m=\u001b[0m \u001b[0mbk\u001b[0m\u001b[0;34m.\u001b[0m\u001b[0mgetbof\u001b[0m\u001b[0;34m(\u001b[0m\u001b[0mXL_WORKBOOK_GLOBALS\u001b[0m\u001b[0;34m)\u001b[0m\u001b[0;34m\u001b[0m\u001b[0;34m\u001b[0m\u001b[0m\n\u001b[0m\u001b[1;32m     80\u001b[0m         \u001b[0;32mif\u001b[0m \u001b[0;32mnot\u001b[0m \u001b[0mbiff_version\u001b[0m\u001b[0;34m:\u001b[0m\u001b[0;34m\u001b[0m\u001b[0;34m\u001b[0m\u001b[0m\n\u001b[1;32m     81\u001b[0m             \u001b[0;32mraise\u001b[0m \u001b[0mXLRDError\u001b[0m\u001b[0;34m(\u001b[0m\u001b[0;34m\"Can't determine file's BIFF version\"\u001b[0m\u001b[0;34m)\u001b[0m\u001b[0;34m\u001b[0m\u001b[0;34m\u001b[0m\u001b[0m\n",
      "\u001b[0;32m~/opt/anaconda3/lib/python3.9/site-packages/xlrd/book.py\u001b[0m in \u001b[0;36mgetbof\u001b[0;34m(self, rqd_stream)\u001b[0m\n\u001b[1;32m   1282\u001b[0m             \u001b[0mbof_error\u001b[0m\u001b[0;34m(\u001b[0m\u001b[0;34m'Expected BOF record; met end of file'\u001b[0m\u001b[0;34m)\u001b[0m\u001b[0;34m\u001b[0m\u001b[0;34m\u001b[0m\u001b[0m\n\u001b[1;32m   1283\u001b[0m         \u001b[0;32mif\u001b[0m \u001b[0mopcode\u001b[0m \u001b[0;32mnot\u001b[0m \u001b[0;32min\u001b[0m \u001b[0mbofcodes\u001b[0m\u001b[0;34m:\u001b[0m\u001b[0;34m\u001b[0m\u001b[0;34m\u001b[0m\u001b[0m\n\u001b[0;32m-> 1284\u001b[0;31m             \u001b[0mbof_error\u001b[0m\u001b[0;34m(\u001b[0m\u001b[0;34m'Expected BOF record; found %r'\u001b[0m \u001b[0;34m%\u001b[0m \u001b[0mself\u001b[0m\u001b[0;34m.\u001b[0m\u001b[0mmem\u001b[0m\u001b[0;34m[\u001b[0m\u001b[0msavpos\u001b[0m\u001b[0;34m:\u001b[0m\u001b[0msavpos\u001b[0m\u001b[0;34m+\u001b[0m\u001b[0;36m8\u001b[0m\u001b[0;34m]\u001b[0m\u001b[0;34m)\u001b[0m\u001b[0;34m\u001b[0m\u001b[0;34m\u001b[0m\u001b[0m\n\u001b[0m\u001b[1;32m   1285\u001b[0m         \u001b[0mlength\u001b[0m \u001b[0;34m=\u001b[0m \u001b[0mself\u001b[0m\u001b[0;34m.\u001b[0m\u001b[0mget2bytes\u001b[0m\u001b[0;34m(\u001b[0m\u001b[0;34m)\u001b[0m\u001b[0;34m\u001b[0m\u001b[0;34m\u001b[0m\u001b[0m\n\u001b[1;32m   1286\u001b[0m         \u001b[0;32mif\u001b[0m \u001b[0mlength\u001b[0m \u001b[0;34m==\u001b[0m \u001b[0mMY_EOF\u001b[0m\u001b[0;34m:\u001b[0m\u001b[0;34m\u001b[0m\u001b[0;34m\u001b[0m\u001b[0m\n",
      "\u001b[0;32m~/opt/anaconda3/lib/python3.9/site-packages/xlrd/book.py\u001b[0m in \u001b[0;36mbof_error\u001b[0;34m(msg)\u001b[0m\n\u001b[1;32m   1276\u001b[0m \u001b[0;34m\u001b[0m\u001b[0m\n\u001b[1;32m   1277\u001b[0m         \u001b[0;32mdef\u001b[0m \u001b[0mbof_error\u001b[0m\u001b[0;34m(\u001b[0m\u001b[0mmsg\u001b[0m\u001b[0;34m)\u001b[0m\u001b[0;34m:\u001b[0m\u001b[0;34m\u001b[0m\u001b[0;34m\u001b[0m\u001b[0m\n\u001b[0;32m-> 1278\u001b[0;31m             \u001b[0;32mraise\u001b[0m \u001b[0mXLRDError\u001b[0m\u001b[0;34m(\u001b[0m\u001b[0;34m'Unsupported format, or corrupt file: '\u001b[0m \u001b[0;34m+\u001b[0m \u001b[0mmsg\u001b[0m\u001b[0;34m)\u001b[0m\u001b[0;34m\u001b[0m\u001b[0;34m\u001b[0m\u001b[0m\n\u001b[0m\u001b[1;32m   1279\u001b[0m         \u001b[0msavpos\u001b[0m \u001b[0;34m=\u001b[0m \u001b[0mself\u001b[0m\u001b[0;34m.\u001b[0m\u001b[0m_position\u001b[0m\u001b[0;34m\u001b[0m\u001b[0;34m\u001b[0m\u001b[0m\n\u001b[1;32m   1280\u001b[0m         \u001b[0mopcode\u001b[0m \u001b[0;34m=\u001b[0m \u001b[0mself\u001b[0m\u001b[0;34m.\u001b[0m\u001b[0mget2bytes\u001b[0m\u001b[0;34m(\u001b[0m\u001b[0;34m)\u001b[0m\u001b[0;34m\u001b[0m\u001b[0;34m\u001b[0m\u001b[0m\n",
      "\u001b[0;31mXLRDError\u001b[0m: Unsupported format, or corrupt file: Expected BOF record; found b'Data\\n0.0'"
     ]
    }
   ],
   "source": [
    "#Je lie mon doc excel\n",
    "document = xlrd.open_workbook(\"../Données/DocTest.xls\")\n",
    "#J'importe ma feuille de calcul\n",
    "feuille_1 = document.sheet_by_index(0)\n",
    "#Puis je met les données voulues dans une liste\n",
    "mesure = []\n",
    "for i in range (1, 513): #ici, je sais que ma feuille possède 512 données\n",
    "    mesure.append(feuille_1.cell_value(rowx=i, colx=1)) #ici, mes données sont colonne 1\n",
    "\n",
    "#Création de la liste des fréquences\n",
    "freq = [0]\n",
    "for i in range(len(mesure)-1):\n",
    "    freq.append(freq[i]+(1/(len(mesure))))\n",
    "\n",
    "#Je fais la trasnformée de Fourrier\n",
    "fourrier = [] \n",
    "fourrier = np.fft.fft(mesure)\n",
    "fourrier[0] = 0 #La première valeur est aberrante; je la remplace\n",
    "\n",
    "#Je crée la liste power\n",
    "power = []\n",
    "for i in range (len(mesure)):\n",
    "    power.append((sqrt(2)*abs(fourrier[i]))*(sqrt(2)*abs(fourrier[i])))\n",
    "power[0] = 0 #La première valeur est aberrante; je la remplace\n",
    "\n",
    "#Je crée les absisses et les ordonées en enlevant la partie symétrique\n",
    "X = []\n",
    "Y = []\n",
    "for i in range (len(mesure)):\n",
    "    if (freq[i]<= max(freq)/2):\n",
    "        X.append(freq[i])\n",
    "        Y.append(power[i])\n",
    "\n",
    "#On cherche le max en LF (0.04 - 0.15 Hz)\n",
    "LF = []\n",
    "for i in range (len(Y)):\n",
    "    if (0.04 <=X[i]<= 0.15):\n",
    "        LF.append(Y[i])\n",
    "MaxLF = [0, max(LF)]\n",
    "\n",
    "#On cherche le max en HF (0.15 - 0.40 Hz)\n",
    "HF = []\n",
    "for i in range (len(Y)):\n",
    "    if (0.15<= X[i]<= 0.40):\n",
    "        HF.append(Y[i])\n",
    "MaxHF = [0, max(HF)]\n",
    "\n",
    "#On relève l'absisse du max en LF\n",
    "for i in range(len(X)):\n",
    "    if Y[i] == MaxLF[1]:\n",
    "        MaxLF[0] = X[i]\n",
    "\n",
    "#On relève l'absisse du max en HF\n",
    "for i in range(len(X)):\n",
    "    if Y[i] == MaxHF[1]:\n",
    "        MaxHF[0] = X[i]\n",
    "\n",
    "#Remarque: LF et HF sont des liste de la forme (absisse, ordonée)\n",
    "\n",
    "#Calcul de l'intégrale en LF\n",
    "integraleLF = 0\n",
    "for i in range(len(LF)):\n",
    "    integraleLF += LF[i]\n",
    "integraleLF /= len(LF)\n",
    "\n",
    "#Calcul de l'intégrale en HF\n",
    "integraleHF = 0\n",
    "for i in range(len(HF)):\n",
    "    integraleHF += HF[i]\n",
    "integraleHF /= len(HF)\n",
    "\n",
    "#Enfin, le graphique :\n",
    "plt.figure(figsize=(20,10))\n",
    "plt.grid()\n",
    "plt.title('PSD')\n",
    "plt.xlabel('Frequency')\n",
    "plt.ylabel('Power')\n",
    "\n",
    "#On crée une liste MF pour les couleurs\n",
    "VLF = []\n",
    "for i in range (len(Y)):\n",
    "    if ( X[i]<= 0.04):\n",
    "        VLF.append(Y[i])\n",
    "\n",
    "#Ajout des couleurs de fond\n",
    "c1 = plt.fill_between(np.arange(0,0.042, 0.042/len(VLF)),0,VLF,facecolor='xkcd:spring green')\n",
    "c2 = plt.fill_between(np.arange(0.04,0.15, (0.15-0.04)/len(LF)),0,LF,facecolor='xkcd:light red')\n",
    "c3 = plt.fill_between(np.arange(0.15,0.4, (0.4-0.15)/len(HF)),0,HF,facecolor='xkcd:baby blue')\n",
    "c4 = plt.fill_between(np.arange(0.41,0.42, (0.42-0.41)/len(HF)),0,HF,facecolor='white')\n",
    "\n",
    "#Légende\n",
    "plt.legend([ c2, c1, c3, c4], [ \"LF\\nPeak = \" + str(MaxLF[0]) + \"\\nPeakValue = \" + str(MaxLF[1]) + \"\\nIntegral = \" + str(integraleLF), \"\\nVLF\", \"HF\\nPeak = \" + str(MaxHF[0]) +  \"\\nPeakValue = \" + str(MaxHF[1]) + \"\\nIntegral = \" + str(integraleHF), \"\\nLF/HF = \" + str((integraleLF/integraleHF)/100)],\n",
    "              loc = 'upper right', ncol = 2, \n",
    "              frameon = True, markerscale = 2, title = 'Legend',\n",
    "              borderpad = 0.5, labelspacing = 0.5)\n",
    "\n",
    "\n",
    "\n"
   ]
  }
 ],
 "metadata": {
  "kernelspec": {
   "display_name": "IA_Sports",
   "language": "python",
   "name": "python3"
  },
  "language_info": {
   "codemirror_mode": {
    "name": "ipython",
    "version": 3
   },
   "file_extension": ".py",
   "mimetype": "text/x-python",
   "name": "python",
   "nbconvert_exporter": "python",
   "pygments_lexer": "ipython3",
   "version": "3.9.13"
  },
  "orig_nbformat": 4,
  "vscode": {
   "interpreter": {
    "hash": "9fbf9630d11b65f4b12a64db5ffa6735a1d4acc09183920c957c8a34e10d103d"
   }
  }
 },
 "nbformat": 4,
 "nbformat_minor": 2
}
