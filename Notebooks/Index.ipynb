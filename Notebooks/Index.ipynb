{
 "cells": [
  {
   "attachments": {},
   "cell_type": "markdown",
   "metadata": {},
   "source": [
    "# IA Sports Handbook\n",
    "\n",
    "![cover image](../Images/Logo.png)\n",
    "\n",
    "## Sommaire\n",
    "\n",
    "### [Partie A : Introduction](01_Introduction.ipynb)\n",
    "### [Partie B : Méthodologie et procédés d’analyse de la variabilité de la fréquence cardiaque]()\n",
    "#### [1. Analyse dans le domaine temporel]()\n",
    "- [Algorithme de Tompkins](02_TompkinsAlgorithm.ipynb)\n",
    "- [Analyse dans le domaine temporel](03_RMSSD.ipynb)\n",
    "#### [2. Analyse dans le domaine fréquentiel]()\n",
    "- [Représentation fréquentielle d’un signal de variabilité cardiaque](04_HRV_fourier.ipynb)\n",
    "### [Partie C : CONCLUSION GENERALE ET PERSPECTIVES ](01_Introduction.ipynb)"
   ]
  }
 ],
 "metadata": {
  "kernelspec": {
   "display_name": "Python 3",
   "language": "python",
   "name": "python3"
  },
  "language_info": {
   "name": "python",
   "version": "3.11.0 (v3.11.0:deaf509e8f, Oct 24 2022, 14:43:23) [Clang 13.0.0 (clang-1300.0.29.30)]"
  },
  "orig_nbformat": 4,
  "vscode": {
   "interpreter": {
    "hash": "aee8b7b246df8f9039afb4144a1f6fd8d2ca17a180786b69acc140d282b71a49"
   }
  }
 },
 "nbformat": 4,
 "nbformat_minor": 2
}
