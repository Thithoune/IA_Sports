{
 "cells": [
  {
   "attachments": {},
   "cell_type": "markdown",
   "metadata": {},
   "source": [
    "# Calcul RMSSD"
   ]
  },
  {
   "cell_type": "code",
   "execution_count": 3,
   "metadata": {},
   "outputs": [],
   "source": [
    "from math import *\n",
    "\n",
    "#Calcul RMSSD pics étant la liste de pics associés à un complexe QRS\n",
    "def RMSSD(pics):\n",
    "  res=0\n",
    "  for i in range(len(pics)-1):\n",
    "    res+=(pics[i+1]-pics[i])^2\n",
    "  return sqrt(1/len(pics)*res)"
   ]
  }
 ],
 "metadata": {
  "kernelspec": {
   "display_name": "base",
   "language": "python",
   "name": "python3"
  },
  "language_info": {
   "codemirror_mode": {
    "name": "ipython",
    "version": 3
   },
   "file_extension": ".py",
   "mimetype": "text/x-python",
   "name": "python",
   "nbconvert_exporter": "python",
   "pygments_lexer": "ipython3",
   "version": "3.9.13"
  },
  "orig_nbformat": 4,
  "vscode": {
   "interpreter": {
    "hash": "5563b092c26b3018c077043351c0871e6f01618fb1682ed2e2f8b2f2c1e07d51"
   }
  }
 },
 "nbformat": 4,
 "nbformat_minor": 2
}
