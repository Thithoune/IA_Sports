{
 "cells": [
  {
   "attachments": {},
   "cell_type": "markdown",
   "metadata": {},
   "source": [
    "# Introduction"
   ]
  },
  {
   "attachments": {},
   "cell_type": "markdown",
   "metadata": {},
   "source": [
    "Ce travail de recherche a été réalisé lors d'un projet intitulé : \"Projet TransPromotion\" au sein de [l'Ecole Nationale Supérieure de Cognitique](https://ensc.bordeaux-inp.fr/fr). \n",
    "\n",
    "L'équipe de réalisation de se projet est composé de 8 étudiants ingénieur cogniticien :\n",
    "- BLONDIN Tessa, \n",
    "- BOVE Olivia, \n",
    "- LACROIX Thibaut, \n",
    "- LEBRETON Matis, \n",
    "- LÉGER Sébastien, \n",
    "- MBOA Bryan, \n",
    "- MESTRESSAT Jean,\n",
    "- RENAUD Thomas\n",
    "\n",
    "<font color='red'> **Description courte** : Réalisation d’une méthode d’évaluation de l’état physiologique d’un coureur permettant l’optimisation de son programme d'entraînement.</font>\n",
    "\n",
    "L’entraînement, qu’il soit pratiqué de façon aiguë ou à plus long terme, provoque inéluctablement des perturbations au niveau de l’activité du système nerveux autonome, qui, d’un point de vue de la variabilité cardiaque, se traduisent par une modulation de l’équilibre\n",
    "sympathovagale. Ainsi, les auteurs ont pu démontrer que l’utilisation des marqueurs de la variabilité cardiaque pouvait rendre compte de l’adaptation, positive ou négative, à un cycle d’entraînement de manière à aider l’entraîneur à individualiser la charge d’entraînement des\n",
    "athlètes en fonction du niveau de fatigue de chacun. L'analyse de la variabilité de la fréquence cardiaque, est considérée comme une technique non invasive donc pratique pour évaluer l’activité du système nerveux autonome d’un individu.\n",
    "\n",
    "Une faible variabilité cardiaque peut-être associé à des risques graves de mortalité quelque soit l'age de la personne. L'indice de faible variabilité cardiaque peut donc être considéré comme un indicateur d'un mauvais état de santé.\n",
    "\n",
    "Au sein de la littérature, nous pouvons remarquer qu’il existe trois domaines d’analyse, temporel, non-linéaire et fréquentiel, regroupant chacun plusieurs indices de la variabilité cardiaque. Nous allons nous inteerrésser à deux en particulier : \n",
    "\n",
    "- [Le ration HF/LF :](HRV_fourier.ipynb)\n",
    "\n",
    "        - Parasympathique [HF] : \n",
    "        La variabilité du rythme cardiaque est sous contrôle de la fréquence respiratoire (environ 12/min, soit cycle d’environ 5s). L’influence se situe autour de 0,2Hz. Le contrôle est lié à la fréquence respiratoire liée à l’activité parasympathique.\n",
    "\n",
    "        - Sympathique [LF] (Mayer waves) : \n",
    "        Calé autour d’une fréquence de 0.1 Hz. Les vaisseaux sanguins périphériques s’ouvrent sous contrôle du sympathique à une période de 10s.\n",
    "\n",
    "- [RMSSD :](RMSSD.ipynb)\n",
    "\n",
    "La moyenne des écarts successifs entre 2 contractions cardiaques (RR)."
   ]
  }
 ],
 "metadata": {
  "kernelspec": {
   "display_name": "Python 3",
   "language": "python",
   "name": "python3"
  },
  "language_info": {
   "name": "python",
   "version": "3.11.0 (v3.11.0:deaf509e8f, Oct 24 2022, 14:43:23) [Clang 13.0.0 (clang-1300.0.29.30)]"
  },
  "orig_nbformat": 4,
  "vscode": {
   "interpreter": {
    "hash": "aee8b7b246df8f9039afb4144a1f6fd8d2ca17a180786b69acc140d282b71a49"
   }
  }
 },
 "nbformat": 4,
 "nbformat_minor": 2
}
